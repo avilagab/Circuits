{
  "nbformat": 4,
  "nbformat_minor": 0,
  "metadata": {
    "colab": {
      "provenance": [],
      "authorship_tag": "ABX9TyPmNnQTrWWaqhKgUaU3d8dl",
      "include_colab_link": true
    },
    "kernelspec": {
      "name": "python3",
      "display_name": "Python 3"
    },
    "language_info": {
      "name": "python"
    }
  },
  "cells": [
    {
      "cell_type": "markdown",
      "metadata": {
        "id": "view-in-github",
        "colab_type": "text"
      },
      "source": [
        "<a href=\"https://colab.research.google.com/github/avilagab/Circuits/blob/main/TVD/IntroImagenes.ipynb\" target=\"_parent\"><img src=\"https://colab.research.google.com/assets/colab-badge.svg\" alt=\"Open In Colab\"/></a>"
      ]
    },
    {
      "cell_type": "code",
      "execution_count": 22,
      "metadata": {
        "colab": {
          "base_uri": "https://localhost:8080/"
        },
        "id": "yAKtxzeEQCpu",
        "outputId": "5c25cd4b-09ad-443c-e1b2-b972755f1722"
      },
      "outputs": [
        {
          "output_type": "stream",
          "name": "stdout",
          "text": [
            "/bin/bash: line 1: setup.py: command not found\n"
          ]
        }
      ],
      "source": [
        "!setup.py Pillow as PIL\n",
        "from PIL import Image\n",
        "\n",
        "from scipy.fftpack import fft, dct\n",
        "import numpy as np\n",
        "\n",
        "import urllib.request"
      ]
    },
    {
      "cell_type": "code",
      "source": [
        "fft(np.array([4., 3., 5., 10., 5., 3.])).real"
      ],
      "metadata": {
        "colab": {
          "base_uri": "https://localhost:8080/"
        },
        "id": "yODO5TzzQV8s",
        "outputId": "6ba0eb9d-894a-4f79-da9d-81012e218390"
      },
      "execution_count": 24,
      "outputs": [
        {
          "output_type": "execute_result",
          "data": {
            "text/plain": [
              "array([30., -8.,  6., -2.,  6., -8.])"
            ]
          },
          "metadata": {},
          "execution_count": 24
        }
      ]
    },
    {
      "cell_type": "code",
      "source": [
        "dct(np.array([4., 3., 5., 10.]), 1)"
      ],
      "metadata": {
        "colab": {
          "base_uri": "https://localhost:8080/"
        },
        "id": "vMEt8jNTSJ7V",
        "outputId": "939c0849-126e-4930-dcb3-5eff73271faf"
      },
      "execution_count": 25,
      "outputs": [
        {
          "output_type": "execute_result",
          "data": {
            "text/plain": [
              "array([30., -8.,  6., -2.])"
            ]
          },
          "metadata": {},
          "execution_count": 25
        }
      ]
    },
    {
      "cell_type": "code",
      "source": [
        "urllib.request.urlretrieve('https://www.fnordware.com/superpng/pnggrad8rgb.png', \"Archivo.png\")\n",
        "image = Image.open(\"Archivo.png\")\n",
        "image"
      ],
      "metadata": {
        "colab": {
          "base_uri": "https://localhost:8080/",
          "height": 317
        },
        "id": "QQqzbp80Qguh",
        "outputId": "ac797940-3556-4698-baa9-69be7adb750c"
      },
      "execution_count": 32,
      "outputs": [
        {
          "output_type": "execute_result",
          "data": {
            "text/plain": [
              "<PIL.PngImagePlugin.PngImageFile image mode=RGB size=300x300>"
            ],
            "image/png": "[encoded data removed]"
          },
          "metadata": {},
          "execution_count": 32
        }
      ]
    },
    {
      "cell_type": "code",
      "source": [
        "# summarize some details about the image\n",
        "print(image.format)\n",
        "print(image.size)\n",
        "print(image.mode)"
      ],
      "metadata": {
        "colab": {
          "base_uri": "https://localhost:8080/"
        },
        "id": "vKK06dM-SWZv",
        "outputId": "9e2edefb-b21a-4463-9332-c4f1934b07dd"
      },
      "execution_count": 33,
      "outputs": [
        {
          "output_type": "stream",
          "name": "stdout",
          "text": [
            "PNG\n",
            "(300, 300)\n",
            "RGB\n"
          ]
        }
      ]
    }
  ]
}