{
 "cells": [
  {
   "cell_type": "markdown",
   "id": "34e9ace5",
   "metadata": {},
   "source": [
    "# Procesamiento de señales\n",
    "\n",
    "Es el campo de la ciencia que se dedica a manipular señales con el fin de cambiarlas de dominio (del tiempo a frecuencia y viceversa), suavizarlas o filtrarlas para eliminar el ruido, realizar operaciones entre señales para la transmisión o recepción de información, entre muchas otras tareas.\n",
    "\n",
    "Si bien es posible realizar procesamiento sobre las señales en circuitos análogos, es en los circuitos digitales donde se logran mejores resultados, puesto que permiten realizar diversas operaciones matemáticas con los datos recolectados.\n",
    "\n",
    "El proceso de recolección de una señal análoga para su procesamiento en un sistema digital se realiza en un dispositivo llamado Conversor Análogo-Digital (ADC). Una vez la señal está en formato digital y se ha procesado, ésta puede retornar al mundo físico mediante un Conversor Digital-Análogo (DAC). La figura muestra las etapas generales de este proceso.\n",
    "\n",
    "![El proceso de conversión ADC y DAC](https://www.allaboutcircuits.com/uploads/articles/fig2-an-introduction-to-digital-signal-processing.jpg)"
   ]
  }
 ],
 "metadata": {
  "kernelspec": {
   "display_name": "Python 3 (ipykernel)",
   "language": "python",
   "name": "python3"
  },
  "language_info": {
   "codemirror_mode": {
    "name": "ipython",
    "version": 3
   },
   "file_extension": ".py",
   "mimetype": "text/x-python",
   "name": "python",
   "nbconvert_exporter": "python",
   "pygments_lexer": "ipython3",
   "version": "3.11.1"
  }
 },
 "nbformat": 4,
 "nbformat_minor": 5
}
